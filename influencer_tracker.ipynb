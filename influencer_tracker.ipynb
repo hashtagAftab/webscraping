{
 "cells": [
  {
   "cell_type": "code",
   "execution_count": 1,
   "id": "6e425c16",
   "metadata": {},
   "outputs": [],
   "source": [
    "from bs4 import BeautifulSoup as bs\n",
    "import requests\n",
    "import pandas as pd"
   ]
  },
  {
   "cell_type": "code",
   "execution_count": 3,
   "id": "1f3dc3af",
   "metadata": {},
   "outputs": [],
   "source": [
    "# Josh\n",
    "\n",
    "df = pd.read_csv(\"josh.csv\")\n",
    "df['27-Jan'] = df['27-Jan'].astype('object')\n",
    "\n",
    "for i, row in df.iterrows():\n",
    "    result = requests.get(row.link)\n",
    "    doc = bs(result.text, \"html.parser\")\n",
    "    if result.status_code == 200:\n",
    "        df.at[i, '27-Jan'] = doc.find_all(\"strong\")[1].string\n",
    "    else:\n",
    "        df.at[i, '27-Jan'] = result.status_code\n",
    "\n",
    "df['27-Jan'].to_clipboard(index=False,header=None)"
   ]
  },
  {
   "cell_type": "code",
   "execution_count": null,
   "id": "3cb259e2",
   "metadata": {},
   "outputs": [],
   "source": [
    "# Moj\n",
    "\n",
    "df1 = pd.read_csv(\"moj.csv\")\n",
    "df1['27-Jan'] = df1['27-Jan'].astype('object')\n",
    "\n",
    "for i, row in df1.iterrows():\n",
    "    result = requests.get(row['link'])\n",
    "    doc = bs(result.text, \"html.parser\")\n",
    "    if result.status_code == 200:\n",
    "        df1.at[i, '27-Jan'] = doc.find_all(\"h4\")[0].string\n",
    "    else:\n",
    "        df1.at[i, '27-Jan'] = result.status_code\n",
    "\n",
    "df1['27-Jan'].to_clipboard(index=False,header=None)"
   ]
  },
  {
   "cell_type": "code",
   "execution_count": 3,
   "id": "ae4d1733",
   "metadata": {},
   "outputs": [
    {
     "name": "stdout",
     "output_type": "stream",
     "text": [
      "\n"
     ]
    }
   ],
   "source": [
    "# MX TakaTak\n",
    "\n",
    "df2 = pd.read_csv(\"mx.csv\")\n",
    "df2['27-Jan'] = df2['27-Jan'].astype('object')\n",
    "\n",
    "for i, row in df2.iterrows():\n",
    "    result = requests.get(row['link'])\n",
    "    doc = bs(result.text, \"html.parser\")\n",
    "    if result.status_code == 200:\n",
    "        df2.at[i, '27-Jan'] = doc.find_all(\"h4\")[0].string\n",
    "    else:\n",
    "        df2.at[i, '27-Jan'] = result.status_code\n",
    "\n",
    "df2['27-Jan'].to_clipboard(index=False,header=None)"
   ]
  }
 ],
 "metadata": {
  "kernelspec": {
   "display_name": "Python 3 (ipykernel)",
   "language": "python",
   "name": "python3"
  },
  "language_info": {
   "codemirror_mode": {
    "name": "ipython",
    "version": 3
   },
   "file_extension": ".py",
   "mimetype": "text/x-python",
   "name": "python",
   "nbconvert_exporter": "python",
   "pygments_lexer": "ipython3",
   "version": "3.10.0"
  }
 },
 "nbformat": 4,
 "nbformat_minor": 5
}
